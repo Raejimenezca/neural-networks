{
 "cells": [
  {
   "cell_type": "markdown",
   "metadata": {},
   "source": [
    "Modelo de McCulloch-Pitts\n",
    "===\n",
    "\n",
    "**Juan David Velásquez Henao**  \n",
    "jdvelasq@unal.edu.co   \n",
    "Universidad Nacional de Colombia, Sede Medellín  \n",
    "Facultad de Minas  \n",
    "Medellín, Colombia\n",
    "\n",
    "---\n",
    "\n",
    "Haga click [aquí](https://github.com/jdvelasq/deep-neural-nets/tree/master/) para acceder al repositorio online.\n",
    "\n",
    "Haga click [aquí](http://nbviewer.jupyter.org/github/jdvelasq/deep-neural-nets/tree/master/) para explorar el repositorio usando `nbviewer`. "
   ]
  },
  {
   "cell_type": "markdown",
   "metadata": {},
   "source": [
    "---"
   ]
  },
  {
   "cell_type": "markdown",
   "metadata": {},
   "source": [
    "# Definición del problema"
   ]
  },
  {
   "cell_type": "markdown",
   "metadata": {},
   "source": [
    "Se desea construir un sistema de visión que permite reconocer patrones binarios. Para este caso práctico, se desean reconocer los cuatro patrones de la siguiente figura.  "
   ]
  },
  {
   "cell_type": "markdown",
   "metadata": {},
   "source": [
    "![alt](images/McCullochPitts-01.png)"
   ]
  },
  {
   "cell_type": "markdown",
   "metadata": {},
   "source": [
    "# Metodología de Solución"
   ]
  },
  {
   "cell_type": "markdown",
   "metadata": {},
   "source": [
    "El modelo de neurona de McCulloch-Pitts fue propuesto originalmente como un postulado sobre la forma en que el cerebro puede reconocer patrones complejos (parte derecha de la figura anterior). Este modelo plantea que, en general, una célula (neurona) puede representarse matemáticamente como una unidad genérica de cómputo de la siguiente forma:\n",
    "\n",
    "![alt](images/McCullochPitts-02.png)"
   ]
  },
  {
   "cell_type": "markdown",
   "metadata": {},
   "source": [
    "donde $x_i$ representa la $i$-ésima entrada binaria, $g()$ es una función de agregación y $f()$ es una función de transformación no lineal, donde:\n",
    "\n",
    "$$g(x_1, ...,x_n) = v = \\sum_{i=1}^n x_i, \\qquad f(v) = \n",
    "\\begin{cases}      \n",
    "      1, & \\text{Si $v \\ge \\theta$}\\\\\n",
    "      0, & \\text{Si $v \\lt \\theta$}\\\\\n",
    "\\end{cases}$$"
   ]
  },
  {
   "cell_type": "markdown",
   "metadata": {},
   "source": [
    "Las entradas $x_i$ son señales exitadores, y las señales $y_j$ son inhibidoras. La salida es cero (0) si alguna de las señales inhibidoras es uno (1).  La salida es uno (1) si la suma de señales de entrada es mayor o igual que el umbral ($\\theta$), y todas las señales inhibidoras son cero (0)."
   ]
  },
  {
   "cell_type": "markdown",
   "metadata": {},
   "source": [
    "Una función lógica $y=f(x_1, x_2, ..., x_n)$ se define como $f:\\{0,1\\}^n \\to \\{0,1\\}$ con:  $y  \\in \\{0,1\\}$, y $x_i \\in \\{0,1\\}$. Ahora, cualquier función lógica $F:\\{0,1\\}^n \\to \\{0,1\\}$ puede ser calculada por una red McCulloch-Pitts de dos capas.\n",
    "\n",
    "* Se decodifica para las entradas con $F=1$.\n",
    "\n",
    "\n",
    "* $\\theta$ es igual a la cantidad de 1s en la entrada.\n",
    "\n",
    "\n",
    "* La neurona de la capa de salida es un OR.\n",
    "\n",
    "![alt](images/McCullochPitts-03.png)\n",
    "\n",
    "Todas las funciones lógicas pueden implementarse con una red compuesta de unidades que calculan exclusivamente las funciones AND, OR y NOT. "
   ]
  },
  {
   "cell_type": "markdown",
   "metadata": {},
   "source": [
    "---\n",
    "**Ejercicio.--** Calcule la salida para la siguiente red de neuronas de McCulloch-Pitts.\n",
    "\n",
    "![alt](images/McCullochPitts-04.png)\n"
   ]
  },
  {
   "cell_type": "markdown",
   "metadata": {},
   "source": [
    "**Ejercicio.--** Construya la red de dos capas de McCulloch-Pitts para la función de paridad, y grafique la función de paridad en el hipercubo unitario.\n",
    "\n",
    "![alt](images/McCullochPitts-05.png)\n",
    "\n",
    "---"
   ]
  },
  {
   "cell_type": "markdown",
   "metadata": {},
   "source": [
    "Una neurona de McCulloch-Pitts puede interpretarse como compuerta lógica de umbral (circuito lógico):\n",
    "\n",
    "![alt](images/McCullochPitts-06.png)"
   ]
  },
  {
   "cell_type": "markdown",
   "metadata": {},
   "source": [
    "Una neurona de McCulloch-Pitts solo puede representar patrones que sean linealmente separables. Es decir, es posible trazar un plano que separa los puntos con $F=0$ y $F=1$.\n",
    "\n",
    "![alt](images/McCullochPitts-07.png)"
   ]
  },
  {
   "cell_type": "markdown",
   "metadata": {},
   "source": [
    "### Solución al problema propuesto"
   ]
  },
  {
   "cell_type": "markdown",
   "metadata": {},
   "source": [
    "Para el problema propuesto, cada patrón puede ser codificado como un vector de tres posiciones. Cuando el cuadro es negro, el valor de la posición correspondiente del vector es +1 y cuando es blanco es -1. Cada patrón es asociado a una variable de salida que toma el valor de +1 cuando el patrón debe ser reconocido y 0 cuando debe ser ignorado. De esta forma, el problema puede plantearse como:\n",
    "\n",
    "         Entrada    Salida\n",
    "      (x0, x1, x2)                      +----+\n",
    "     -----------------------            | x0 |\n",
    "           000        0                 +----+\n",
    "           001        1                 | x1 | \n",
    "           010        0                 +----+\n",
    "           011        0                 | x2 |\n",
    "           100        1                 +----+\n",
    "           101        0\n",
    "           110        1\n",
    "           111        1       "
   ]
  },
  {
   "cell_type": "code",
   "execution_count": 1,
   "metadata": {
    "scrolled": false
   },
   "outputs": [
    {
     "name": "stdout",
     "output_type": "stream",
     "text": [
      "\u001b[H\u001b[2J"
     ]
    },
    {
     "name": "stderr",
     "output_type": "stream",
     "text": [
      "/Users/jdvelasq/anaconda3/lib/python3.6/site-packages/h5py/__init__.py:36: FutureWarning: Conversion of the second argument of issubdtype from `float` to `np.floating` is deprecated. In future, it will be treated as `np.float64 == np.dtype(float).type`.\n",
      "  from ._conv import register_converters as _register_converters\n"
     ]
    }
   ],
   "source": [
    "%clear\n",
    "##\n",
    "## A continuación se codifica la red que soluciona el problema\n",
    "## anterior (no es generica).\n",
    "##\n",
    "\n",
    "import tensorflow as tf\n",
    "import numpy as np\n",
    "\n",
    "def nnet(x):\n",
    "    \"\"\"\n",
    "    Computa el valor de la red neuronal para el vector\n",
    "    de entrada x\n",
    "    \n",
    "    >>> import tensorflow as tf\n",
    "    >>> import numpy as np\n",
    "    >>> x = [[0, 0, 0],\n",
    "    ...      [0, 0, 1],\n",
    "    ...      [0, 1, 0],\n",
    "    ...      [0, 1, 1],\n",
    "    ...      [1, 0, 0],\n",
    "    ...      [1, 0, 1],\n",
    "    ...      [1, 1, 0],\n",
    "    ...      [1, 1, 1]]\n",
    "                      \n",
    "    >>> for z in x:\n",
    "    ...     nnet(z)\n",
    "    0.0\n",
    "    1.0\n",
    "    0.0\n",
    "    0.0\n",
    "    1.0\n",
    "    0.0\n",
    "    1.0\n",
    "    1.0\n",
    "    \"\"\"\n",
    "    \n",
    "    ## entrada a la red neuronal\n",
    "    z = tf.placeholder(tf.float32, shape=(3, 1))\n",
    "    \n",
    "    ## peso de las neuronas inhibitorias\n",
    "    N = -10.0\n",
    "    \n",
    "    ## pesos asociados a las conexiones \n",
    "    weights = tf.constant([[N, N, 1],    ## 001\n",
    "                           [1, N, N],    ## 100\n",
    "                           [1, 1, N],    ## 110\n",
    "                           [1, 1, 1]])   ## 111\n",
    "    \n",
    "    ## valor límite de las neuronas para \n",
    "    ## la función de activación\n",
    "    threshold = tf.constant([[1.], [1.], [2.], [3.]])\n",
    "    \n",
    "    ## operaciones matemáticas\n",
    "    out = tf.matmul(weights, z)\n",
    "    out = tf.subtract(out, threshold)\n",
    "    out = tf.map_fn(lambda m: tf.cond(tf.greater_equal(m[0], 0.0), \n",
    "                                      true_fn = lambda: tf.constant(1.), \n",
    "                                      false_fn = lambda : tf.constant(0.0)),\n",
    "                    out)\n",
    "    out = tf.reduce_max(out)\n",
    "    \n",
    "    with tf.Session() as sess:\n",
    "        x = np.array(x).reshape(3,1)\n",
    "        out = sess.run(out, feed_dict={z: x})\n",
    "    return out\n",
    "\n",
    "\n",
    "if __name__ == \"__main__\":\n",
    "    import doctest\n",
    "    doctest.testmod()"
   ]
  },
  {
   "cell_type": "markdown",
   "metadata": {},
   "source": [
    "---\n",
    "**Ejercicio.--** Complete el siguiente código que implementa una red de neuronas de McCulloch-Pitts. Realice la implementación usando `numpy`. "
   ]
  },
  {
   "cell_type": "code",
   "execution_count": 8,
   "metadata": {},
   "outputs": [
    {
     "name": "stdout",
     "output_type": "stream",
     "text": [
      "\u001b[H\u001b[2J0\n",
      "1\n",
      "0\n",
      "0\n",
      "1\n",
      "0\n",
      "1\n",
      "1\n"
     ]
    }
   ],
   "source": [
    "%clear\n",
    "import numpy as np\n",
    "\n",
    "class McCullochPits:\n",
    "    z = np.array([])\n",
    "    holi = np.array([])\n",
    "    n = 0\n",
    "    def __init__(self, n):\n",
    "        #self.z =\n",
    "        self.n = -n*2\n",
    "        \"\"\"\n",
    "        n es el numero de entradas a la red\n",
    "        \"\"\"\n",
    "        pass\n",
    "\n",
    "    def fit(self, x, y):\n",
    "        self.holi = [[[self.n if i == 0 else i for i in v], np.sum(v)] for v, w in zip(x, y) if w > 0]\n",
    "        \"\"\"\n",
    "        x son las entradas, y es la salida esperada\n",
    "        \"\"\"\n",
    "        pass\n",
    "\n",
    "    def predict(self, x):\n",
    "        for e in x:\n",
    "            cosa = []\n",
    "            for i in range(len(self.holi)):\n",
    "                cosa.append(1 if np.sum(np.array(e) * np.array(self.holi[i][0])) >= self.holi[i][1] else 0)\n",
    "            print(np.max(cosa))\n",
    "\n",
    "        \"\"\"\n",
    "        Pronostica la salida para una lista de entradas.\n",
    "\n",
    "        >>> x = [[0, 0, 0], [0, 0, 1], [0, 1, 0], [0, 1, 1],\n",
    "        ...      [1, 0, 0], [1, 0, 1], [1, 1, 0], [1, 1, 1]]\n",
    "        >>> y = [0, 1, 0, 0,\n",
    "        ...      1, 0, 1, 1]\n",
    "        >>> m = McCullochPits(3)\n",
    "        >>> m.fit(x, y)\n",
    "        >>> m.predict(x)\n",
    "        0\n",
    "        1\n",
    "        0\n",
    "        0\n",
    "        1\n",
    "        0\n",
    "        1\n",
    "        1\n",
    "        \n",
    "        \"\"\"\n",
    "        pass\n",
    "\n",
    "if __name__ == \"__main__\":\n",
    "        x = [[0, 0, 0], [0, 0, 1], [0, 1, 0], [0, 1, 1], [1, 0, 0], [1, 0, 1], [1, 1, 0], [1, 1, 1]]\n",
    "        y = [0, 1, 0, 0, 1, 0, 1, 1]\n",
    "        m = McCullochPits(3)\n",
    "        m.fit(x, y)\n",
    "        m.predict(x)\n",
    "        import doctest\n",
    "        doctest.testmod()"
   ]
  },
  {
   "cell_type": "markdown",
   "metadata": {},
   "source": [
    "---"
   ]
  },
  {
   "cell_type": "markdown",
   "metadata": {},
   "source": [
    "Modelo de McCulloch-Pitts\n",
    "===\n",
    "\n",
    "**Juan David Velásquez Henao**  \n",
    "jdvelasq@unal.edu.co   \n",
    "Universidad Nacional de Colombia, Sede Medellín  \n",
    "Facultad de Minas  \n",
    "Medellín, Colombia\n",
    "\n",
    "---\n",
    "\n",
    "Haga click [aquí](https://github.com/jdvelasq/deep-neural-nets/tree/master/) para acceder al repositorio online.\n",
    "\n",
    "Haga click [aquí](http://nbviewer.jupyter.org/github/jdvelasq/deep-neural-nets/tree/master/) para explorar el repositorio usando `nbviewer`. "
   ]
  }
 ],
 "metadata": {
  "kernelspec": {
   "display_name": "Python 3",
   "language": "python",
   "name": "python3"
  },
  "language_info": {
   "codemirror_mode": {
    "name": "ipython",
    "version": 3
   },
   "file_extension": ".py",
   "mimetype": "text/x-python",
   "name": "python",
   "nbconvert_exporter": "python",
   "pygments_lexer": "ipython3",
   "version": "3.6.5"
  }
 },
 "nbformat": 4,
 "nbformat_minor": 2
}
