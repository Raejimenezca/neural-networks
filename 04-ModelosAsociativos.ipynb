{
 "cells": [
  {
   "cell_type": "markdown",
   "metadata": {},
   "source": [
    "Modelos Asociativos y Aprendizaje Hebbiano\n",
    "===\n",
    "\n",
    "**Juan David Velásquez Henao**  \n",
    "jdvelasq@unal.edu.co   \n",
    "Universidad Nacional de Colombia, Sede Medellín  \n",
    "Facultad de Minas  \n",
    "Medellín, Colombia\n",
    "\n",
    "---\n",
    "\n",
    "Haga click [aquí](https://github.com/jdvelasq/deep-neural-nets/tree/master/) para acceder al repositorio online.\n",
    "\n",
    "Haga click [aquí](http://nbviewer.jupyter.org/github/jdvelasq/deep-neural-nets/tree/master/) para explorar el repositorio usando `nbviewer`. "
   ]
  },
  {
   "cell_type": "markdown",
   "metadata": {},
   "source": [
    "---"
   ]
  },
  {
   "cell_type": "markdown",
   "metadata": {},
   "source": [
    "# Definición del problema"
   ]
  },
  {
   "cell_type": "markdown",
   "metadata": {},
   "source": [
    "Se contruyó un sistema de transmisión que permite enviar información entre dos puntos diferentes. Por simplicidad se supondrá que solo es de interés transmitir tres patrones diferentes, los cuales son presentados en la figura de abajo. El problema radica en que en el punto de recepción, el patrón recibido puede llegar incompleto o contaminado con ruido. Se desea construir un sistema que permita recuperar el patrón original a partir del patrón recibido.  \n",
    "\n",
    "![alt](images/ModelosAsociativos-01.png)"
   ]
  },
  {
   "cell_type": "markdown",
   "metadata": {},
   "source": [
    "# Metodología de Solución"
   ]
  },
  {
   "cell_type": "markdown",
   "metadata": {},
   "source": [
    "Este problema puede ser solucionado mediante una memoria lineal asociativa, la cual relaciona un patrón de actividad neuronal de entrada  con un patrón de actividad neuronal de salida. Existen dos fases:\n",
    "\n",
    "* Aprendizaje: Un patrón clave es presentado como un estímulo. La memoria lo transforma a un patrón almacenado o memorizado.\n",
    "\n",
    "\n",
    "![alt](images/ModelosAsociativos-02.png)\n",
    "\n",
    "* Uso: Se presenta una versión del patrón de entrada incompleta o con ruido y la memoria devuelve el patrón almacenado más parecido.\n",
    "\n",
    "![alt](images/ModelosAsociativos-03.png)"
   ]
  },
  {
   "cell_type": "markdown",
   "metadata": {},
   "source": [
    "Las características de la memoria asociativa son las siguientes:\n",
    "\n",
    "\n",
    "* La memoria es distribuida.\n",
    "\n",
    "\n",
    "* Los patrones de estímulo y las respuestas son vectores de datos.\n",
    "\n",
    "\n",
    "* La información se almacena en las neuronas a través de un patrón de actividad neural a través de un gran número de neuronas.\n",
    "\n",
    "\n",
    "* La información contenida en el estímulo determina su localización de almacenamiento en la memoria y la dirección para su recuperación.\n",
    "\n",
    "\n",
    "* La memoria tiene un alto grado de resistencia al ruido.\n",
    "\n",
    "\n",
    "* Las interacciones entre patrones son almacenadas en la memoria.\n"
   ]
  },
  {
   "cell_type": "markdown",
   "metadata": {},
   "source": [
    "Conceptualmente se reconocen dos tipos de asociación:\n",
    "\n",
    "* Autoasociación: El estímulo es asociado consigo mismo en la memoria.\n",
    "\n",
    "![alt](images/ModelosAsociativos-04.png)\n",
    "\n",
    "* Heteroasociación: Vectores arbitrarios de estímulos son asociados con vectores arbitrarios de respuesta.\n",
    "\n",
    "![alt](images/ModelosAsociativos-02.png)\n"
   ]
  },
  {
   "cell_type": "markdown",
   "metadata": {},
   "source": [
    "Hay dos tipos de memorias:\n",
    "\n",
    "* Memoria asociativa lineal: la neurona actúa como un combinador lineal: \n",
    "$$\\mathbf{b}=\\mathbf{Ma}$$\n",
    "Donde $\\mathbf{M}$ es la matriz de memoria, $\\mathbf{a}$ el estímulo, y $\\mathbf{b}$ la respuesta\n",
    "\n",
    "\n",
    "* Memoria asociativa no lineal: \n",
    "$$\\mathbf{b}=\\Phi(\\mathbf{M},\\mathbf{a})$$\n",
    "en la que $\\Phi(.)$ es una función no lineal.\n"
   ]
  },
  {
   "cell_type": "markdown",
   "metadata": {},
   "source": [
    "### Solución mediante una memoria asociativa lineal\n",
    "\n",
    "Una memoria asociativa lineal puede representarse como la siguiente red neuronal:\n",
    "\n",
    "![alt](images/ModelosAsociativos-05.png)\n",
    "\n",
    "donde:\n",
    "\n",
    "* El $k$-ésimo estímulo o patrón clave es $\\mathbf{a}_k = [a_{k1}, ..., a_{km}]^T$.\n",
    "\n",
    "\n",
    "* El $k$-ésimo vector respuesta o patrón memorizado es $\\mathbf{b}_k = [b_{k1}, ..., b_{kn}]$.\n",
    "\n",
    "\n",
    "* La red asocia $\\mathbf{a}_k$ con $\\mathbf{b}_k$, esto es $\\mathbf{a}_k \\, \\to \\, \\mathbf{b}_k$ como:\n",
    "\n",
    "$$\\mathbf{b}_k = \\mathbf{M} \\mathbf{a}_k$$"
   ]
  },
  {
   "cell_type": "markdown",
   "metadata": {},
   "source": [
    "Para $Q$ patrones a asociar, la matriz $\\mathbf{M}$ se calcula como:\n",
    "\n",
    "$$\\mathbf{M} = \\sum_{k=1}^Q \\mathbf{b}_k \\mathbf{a}_k^T \n",
    "= [\\mathbf{b}_1 ... \\mathbf{b}_Q] \n",
    " \\begin{bmatrix} \\mathbf{a}_1^T  \\\\ \\vdots \\\\ \\mathbf{a}_Q^T\\end{bmatrix} \n",
    "= \\mathbf{B} \\mathbf{A}^T\n",
    "$$\n",
    "\n",
    "donde $\\mathbf{A}$ es la matriz clave y $\\mathbf{B}$ es la matriz memorizada."
   ]
  },
  {
   "cell_type": "markdown",
   "metadata": {},
   "source": [
    "**Propagación de la señal.** Cuando se presenta un estímulo $\\mathbf{a}_j$ la respuesta será:\n",
    "\n",
    "$$\\mathbf{b} = \n",
    "\\mathbf{M} \\mathbf{a_j} = \n",
    "\\sum_{k=1}^Q \\mathbf{b}_k \\mathbf{a}_k^T \\mathbf{a}_j =\n",
    "\\sum_{k=1}^Q (\\mathbf{a}_k^T \\mathbf{a}_j) \\mathbf{b}_k  =\n",
    "(\\mathbf{a}_j^T \\mathbf{a}_j) \\mathbf{b}_j + \n",
    "\\sum_{\\substack{k=1\\\\k \\neq j}}^Q (\\mathbf{a}_k^T \\mathbf{a}_j) \\mathbf{b}_k\n",
    "$$"
   ]
  },
  {
   "cell_type": "markdown",
   "metadata": {},
   "source": [
    "Ya que la red neuronal reproduce perfectamente la salida deseada $\\mathbf{b}_j$, entonces:\n",
    "\n",
    "* Cada patrón de entrada debe estar normalizado $\\mathbf{a}_j^T \\mathbf{a}_j = 1$.\n",
    "\n",
    "\n",
    "* Los patrones de entrada deben ser ortogonales:\n",
    "$$\n",
    "\\mathbf{a}_k^T \\mathbf{a}_j = \n",
    "\\begin{cases}\n",
    "1, & k = j \\\\\n",
    "0, & k \\ne j\n",
    "\\end{cases}\n",
    "$$\n",
    "\n",
    "Y $Q$ debe ser menor que la dimensión de las claves."
   ]
  },
  {
   "cell_type": "markdown",
   "metadata": {},
   "source": [
    "---\n",
    "**Ejercicio.--** Construya la matriz $\\mathbf{M}$ para los siguientes patrones de entrenamiento (realice los cálculos usando `numpy`):\n",
    "\n",
    "* $\\mathbf{a}_1 = [+0.5, -0.5, +0.5, -0.5]^T$, $\\mathbf{b}_1 = [+1, -1]^T$.\n",
    "\n",
    "\n",
    "* $\\mathbf{a}_2 = [+0.5, +0.5, -0.5, -0.5]^T$, $\\mathbf{b}_2 = [+1, +1]^T$.\n",
    "\n",
    "\n",
    "---"
   ]
  },
  {
   "cell_type": "code",
   "execution_count": 6,
   "metadata": {},
   "outputs": [
    {
     "name": "stdout",
     "output_type": "stream",
     "text": [
      "[[ 1.  0.  0. -1.]\n",
      " [ 0.  1. -1.  0.]]\n"
     ]
    }
   ],
   "source": [
    "import numpy as np \n",
    "a = np.array([[0.5, -0.5, 0.5, -0.5], [0.5, 0.5, -0.5, -0.5]])\n",
    "b = np.array([[1, 1], [-1, 1]])\n",
    "print(np.dot(b,a))"
   ]
  },
  {
   "cell_type": "markdown",
   "metadata": {},
   "source": [
    "**Método de la pseudoinversa.** En este caso, los vectores de es:\n",
    "\n",
    "$$\\mathbf{b} = \n",
    "\\mathbf{M} \\mathbf{a_j} = \n",
    "(\\mathbf{a}_j^T \\mathbf{a}_j) \\mathbf{b}_j + \n",
    "\\sum_{\\substack{k=1\\\\k \\neq j}}^Q (\\mathbf{a}_k^T \\mathbf{a}_j) \\mathbf{b}_k = \n",
    "\\mathbf{b}_j + \n",
    "\\sum_{\\substack{k=1\\\\k \\neq j}}^Q (\\mathbf{a}_k^T \\mathbf{a}_j) \\mathbf{b}_k =\n",
    "\\mathbf{b}_j+ \\mathbf{v}_j\n",
    "$$\n",
    "\n",
    "donde $\\mathbf{b}_j$ es la respuesta deseada y $\\mathbf{v}_j$ es un vector de ruido, con:\n",
    "\n",
    "$$\\mathbf{v}_j \n",
    "= \\sum_{\\substack{k=1\\\\k \\neq j}}^Q (\\mathbf{a}_k^T \\mathbf{a}_j) \\mathbf{b}_k \n",
    "= \\sum_{\\substack{k=1\\\\k \\neq j}}^Q \\cos (\\mathbf{a}_k, \\mathbf{a_j}) \\mathbf{b}_k \n",
    "$$"
   ]
  },
  {
   "cell_type": "markdown",
   "metadata": {},
   "source": [
    "Se puede minimizar el error cuando los patrones no son ortogonales aplicando la regla de la pseudoinversa.\n",
    "\n",
    "* Se tienen $Q$ patrones de entrenamiento, con $Q>m$.\n",
    "\n",
    "\n",
    "* Es posible definir una medida del error, tal como la suma de errores al cuadrado:\n",
    "$$\n",
    "J(\\mathbf{M}) \n",
    "= \\sum_{k=1}^Q \\| \\mathbf{b}_k - \\mathbf{Ma}_k) \\|^2\n",
    "= \\| \\mathbf{B} - \\mathbf{MA} \\|^2\n",
    "= \\| \\mathbf{E} \\|^2\n",
    "$$\n",
    "\n",
    "\n",
    "* Derivando e igualando a cero:\n",
    "\n",
    "$$ \\mathbf{B} - \\mathbf{MA} = 0 $$\n",
    "\n",
    "$$ \\mathbf{MA} = \\mathbf{B} $$\n",
    "\n",
    "$$ \\mathbf{M} = \\mathbf{B} \\mathbf{A} ^{-1}$$\n",
    "\n",
    "\n",
    "* Ya que $\\mathbf{A}$ es una matriz rectangular, su inversa exacta no existe. Se recurre a la definición de psuedoinversa. \n",
    "\n",
    "$$ \\mathbf{M} = \\mathbf{B} \\mathbf{A} ^{+}$$\n",
    "\n",
    "$$ \\mathbf{A}^{+} = (\\mathbf{A}^T \\mathbf{A})^{-1} \\mathbf{A}^T $$"
   ]
  },
  {
   "cell_type": "markdown",
   "metadata": {},
   "source": [
    "**Solución al problema propuesto.** Para el problema propuesto en este tutorial, se tienen tres  patrones de entrenamento, los cuales serán aprendidos por una red neuronal asociativa NO lineal. Este tipo de red neuronal se construye usando una memoria asociativa lineal en la que se cambia la función de activación. La arquitectura del modelo es la siguiente:\n",
    "\n",
    "![alt](images/ModelosAsociativos-06.png)\n",
    "\n",
    "Las figuras son representadas mediante patrones binarios, $\\{-1, +1\\}$, donde $-1$ representa el blanco y $+1$ representa el negro."
   ]
  },
  {
   "cell_type": "markdown",
   "metadata": {},
   "source": [
    "### Solucion usando `numpy`"
   ]
  },
  {
   "cell_type": "code",
   "execution_count": 11,
   "metadata": {},
   "outputs": [],
   "source": [
    "import numpy as np\n",
    "import matplotlib.pyplot as plt\n",
    "%matplotlib inline"
   ]
  },
  {
   "cell_type": "code",
   "execution_count": 12,
   "metadata": {},
   "outputs": [],
   "source": [
    "def plot_digits(x, y=None):\n",
    "    \"\"\"\n",
    "    Genera el gráfico de patrones por parejas.\n",
    "    \n",
    "    x: lista con los patrones iniciales\n",
    "    y: lista con los patrones limpios\n",
    "    \"\"\"\n",
    "    N = len(x)\n",
    "    if y is None:\n",
    "        fig, axes = plt.subplots(1, N, figsize=(2.9, 1.2))\n",
    "        for i, data in enumerate(x):\n",
    "            axes[i].pcolor(data, edgecolors='grey', linewidths=1, cmap=plt.get_cmap('Greys'))\n",
    "            axes[i].set(xticks=[], yticks=[])\n",
    "    else:\n",
    "        if N == 1:\n",
    "            fig, axes = plt.subplots(N, 2, figsize=(2.0, 1.2))\n",
    "            axes[0].pcolor(x[0], edgecolors='grey', linewidths=1, cmap=plt.get_cmap('Greys'))\n",
    "            axes[1].pcolor(y[0], edgecolors='grey', linewidths=1, cmap=plt.get_cmap('Greys'))\n",
    "            axes[0].set(xticks=[], yticks=[])\n",
    "            axes[1].set(xticks=[], yticks=[])\n",
    "        else:\n",
    "            fig, axes = plt.subplots(N, 2, figsize=(2, 3))\n",
    "            for i, (data_x, data_y) in enumerate(zip(x,y)):\n",
    "                axes[i][0].pcolor(data_x, edgecolors='grey', linewidths=1, cmap=plt.get_cmap('Greys'))\n",
    "                axes[i][1].pcolor(data_y, edgecolors='grey', linewidths=1, cmap=plt.get_cmap('Greys'))\n",
    "                axes[i][0].set(xticks=[], yticks=[])\n",
    "                axes[i][1].set(xticks=[], yticks=[])\n",
    "    fig.tight_layout()\n",
    "    plt.show()\n"
   ]
  },
  {
   "cell_type": "code",
   "execution_count": 13,
   "metadata": {},
   "outputs": [
    {
     "data": {
      "image/png": "[encoded data removed]",
      "text/plain": [
       "<Figure size 208.8x86.4 with 3 Axes>"
      ]
     },
     "metadata": {},
     "output_type": "display_data"
    }
   ],
   "source": [
    "##\n",
    "## Se representan los tres patrones como matrices\n",
    "## Note que las matrices estan invertidas para\n",
    "## efectos de graficacion\n",
    "## -1: blanco,  +1: negro\n",
    "##\n",
    "\n",
    "d0 = np.array([[-1, +1, +1, +1, -1],\n",
    "               [+1, -1, -1, -1, +1],\n",
    "               [+1, -1, -1, -1, +1],\n",
    "               [+1, -1, -1, -1, +1],\n",
    "               [+1, -1, -1, -1, +1],\n",
    "               [-1, +1, +1, +1, -1]])\n",
    "\n",
    "d1 = np.array([[-1, -1, +1, -1, -1],\n",
    "               [-1, -1, +1, -1, -1],\n",
    "               [-1, -1, +1, -1, -1],\n",
    "               [-1, -1, +1, -1, -1],\n",
    "               [-1, -1, +1, -1, -1],\n",
    "               [-1, +1, +1, -1, -1]])\n",
    "\n",
    "d2 = np.array([[-1, +1, +1, +1, +1],\n",
    "               [-1, +1, -1, -1, -1],\n",
    "               [-1, +1, +1, -1, -1],\n",
    "               [-1, -1, -1, +1, -1],\n",
    "               [-1, -1, -1, +1, -1],\n",
    "               [+1, +1, +1, +1, -1]])\n",
    "\n",
    "plot_digits(x=[d0, d1, d2])"
   ]
  },
  {
   "cell_type": "code",
   "execution_count": 51,
   "metadata": {
    "scrolled": true
   },
   "outputs": [
    {
     "data": {
      "image/png": "[encoded data removed]",
      "text/plain": [
       "<Figure size 144x216 with 6 Axes>"
      ]
     },
     "metadata": {},
     "output_type": "display_data"
    }
   ],
   "source": [
    "class ALM:\n",
    "    def __init__(self):\n",
    "        self.M = None\n",
    "        \n",
    "    def fit(self, x):\n",
    "        ##\n",
    "        ## Recibe una lista de matrices con los patrones\n",
    "        ##\n",
    "        x = [e.flatten() for e in x]            ## matrix a vector\n",
    "        x = (e.reshape(len(e), 1) for e in x)   ## vector-fila a vector-columna\n",
    "        A = np.hstack(x)                        ## matriz A = [x0 x1 x2]\n",
    "        An = []\n",
    "        for i in A:\n",
    "            xb = []\n",
    "            for j in i:         \n",
    "                if j < 0:\n",
    "                    xb.append(-1)\n",
    "                else: \n",
    "                    xb.append(1)\n",
    "            An.append(xb)\n",
    "        self.M = A @ np.transpose(An)          ## B * inv(At * A)\n",
    "        \n",
    "    def predict(self, x):\n",
    "        ##\n",
    "        ## x es una lista de matrices\n",
    "        ##\n",
    "        \n",
    "        m, n = x[0].shape\n",
    "        x = [e.flatten() for e in x]            ## matrix a vector\n",
    "        x = (e.reshape(len(e), 1) for e in x)   ## vector-fila a vector-columna\n",
    "        x = [self.M @ e for e in x]\n",
    "        \n",
    "        x = [e.reshape(m,n) for e in x]\n",
    "        xt = []\n",
    "        for i in x:\n",
    "            xa = []\n",
    "            for j in i:\n",
    "                xb = []\n",
    "                for k in j:\n",
    "                    if k < 0:\n",
    "                        xb.append(-1)\n",
    "                    else: \n",
    "                        xb.append(1)\n",
    "                xa.append(xb)\n",
    "            xt.append(xa)\n",
    "        return np.array(xt)\n",
    "\n",
    "alm = ALM()\n",
    "alm.fit([d0, d1, d2])\n",
    "n = alm.predict([d0, d1, d2])\n",
    "plot_digits(x=[d0, d1, d2], y=n)"
   ]
  },
  {
   "cell_type": "code",
   "execution_count": 52,
   "metadata": {},
   "outputs": [
    {
     "data": {
      "image/png": "[encoded data removed]",
      "text/plain": [
       "<Figure size 144x86.4 with 2 Axes>"
      ]
     },
     "metadata": {},
     "output_type": "display_data"
    }
   ],
   "source": [
    "##\n",
    "## Se ejecuta el modelo sobre patrones incompletos\n",
    "## o contaminados con ruido\n",
    "##\n",
    "n0 = np.array([[-1, -1, -1, -1, -1],\n",
    "               [-1, -1, -1, -1, -1],\n",
    "               [+1, -1, -1, -1, +1],\n",
    "               [+1, -1, -1, -1, +1],\n",
    "               [+1, -1, -1, -1, +1],\n",
    "               [-1, +1, +1, +1, -1]])\n",
    "\n",
    "plot_digits(x=[n0], y=alm.predict([n0]))"
   ]
  },
  {
   "cell_type": "code",
   "execution_count": 53,
   "metadata": {
    "scrolled": false
   },
   "outputs": [
    {
     "data": {
      "image/png": "[encoded data removed]",
      "text/plain": [
       "<Figure size 144x216 with 6 Axes>"
      ]
     },
     "metadata": {},
     "output_type": "display_data"
    }
   ],
   "source": [
    "##\n",
    "## Ya que se requiere que la salida sea {-1, +1}\n",
    "## se modifica el codigo anterior agregando la\n",
    "## función de activación de paso duro\n",
    "##\n",
    "class ANLM:\n",
    "    def __init__(self):\n",
    "        self.M = None\n",
    "        \n",
    "    def fit(self, x):\n",
    "        x = [e.flatten() for e in x]            ## matrix a vector\n",
    "        x = (e.reshape(len(e), 1) for e in x)   ## vector-fila a vector-columna\n",
    "        A = np.hstack(x)                        ## matriz A = [x0 x1 x2]\n",
    "        self.M = A @ np.linalg.pinv(A)          ## B * inv(At * A)\n",
    "        \n",
    "    def predict(self, x):\n",
    "        m, n = x[0].shape\n",
    "        x = [e.flatten() for e in x]            ## matrix a vector\n",
    "        x = (e.reshape(len(e), 1) for e in x)   ## vector-fila a vector-columna\n",
    "        x = [self.M @ e for e in x]\n",
    "        ##\n",
    "        ## ----- función de activación -------\n",
    "        ##\n",
    "        x = [np.sign(e) for e in x]\n",
    "        ##\n",
    "        ## ------------------------------------\n",
    "        ##\n",
    "        x = [e.reshape(m,n) for e in x]\n",
    "        return x\n",
    "\n",
    "anlm = ANLM()\n",
    "anlm.fit([d0, d1, d2])\n",
    "n = anlm.predict([d0, d1, d2])\n",
    "plot_digits(x=[d0, d1, d2], y=n)"
   ]
  },
  {
   "cell_type": "code",
   "execution_count": 56,
   "metadata": {
    "scrolled": true
   },
   "outputs": [
    {
     "data": {
      "image/png": "[encoded data removed]",
      "text/plain": [
       "<Figure size 144x86.4 with 2 Axes>"
      ]
     },
     "metadata": {},
     "output_type": "display_data"
    }
   ],
   "source": [
    "##\n",
    "## Se ejecuta el modelo sobre patrones incompletos\n",
    "## o contaminados con ruido\n",
    "##\n",
    "n0 = np.array([[-1, -1, -1, -1, -1],\n",
    "               [-1, -1, -1, -1, -1],\n",
    "               [-1, -1, -1, -1, -1],\n",
    "               [-1, -1, +1, -1, -1],\n",
    "               [-1, -1, +1, -1, -1],\n",
    "               [-1, +1, +1, -1, -1]])\n",
    "\n",
    "plot_digits(x=[n0], y=anlm.predict([n0]))"
   ]
  },
  {
   "cell_type": "markdown",
   "metadata": {},
   "source": [
    "---\n",
    "**Ejercicio.--** Verifique si las siguientes reconstrucciones son correctas.\n",
    "\n",
    "![alt](images/ModelosAsociativos-07.png)\n",
    "\n"
   ]
  },
  {
   "cell_type": "markdown",
   "metadata": {},
   "source": [
    "---\n",
    "**Ejercicio.--** Implemente el algoritmo anterior usando las operaciones elementales de `TensorFlow` y con compare los resultados obtenidos usando `numpy`.\n",
    "\n",
    "---"
   ]
  },
  {
   "cell_type": "code",
   "execution_count": 57,
   "metadata": {},
   "outputs": [
    {
     "name": "stderr",
     "output_type": "stream",
     "text": [
      "/opt/conda/lib/python3.6/site-packages/h5py/__init__.py:36: FutureWarning: Conversion of the second argument of issubdtype from `float` to `np.floating` is deprecated. In future, it will be treated as `np.float64 == np.dtype(float).type`.\n",
      "  from ._conv import register_converters as _register_converters\n"
     ]
    }
   ],
   "source": [
    "import tensorflow as tf\n"
   ]
  },
  {
   "cell_type": "markdown",
   "metadata": {},
   "source": [
    "### Solución mediante una memoria asociativa bidireccional (BAM)"
   ]
  },
  {
   "cell_type": "markdown",
   "metadata": {},
   "source": [
    "Es una memoria asociativa lineal donde la señal se propaga de una capa a otra (retropropagación) hasta estabilizarse (la salida de la red se hace estable). El modelo esquemático es el siguiente:\n",
    "\n",
    "![alt](images/ModelosAsociativos-08.png)"
   ]
  },
  {
   "cell_type": "markdown",
   "metadata": {},
   "source": [
    "A continuación se ejemplifica el proceso de propagación de una señal a través de la BAM. El $k$-ésimo patrón, $\\mathbf{a}_k(1)$, es patrón $\\mathbf{a}_k$ en la iteración 1; entonces, la propagación de la señal se realiza de la siguiente manera:\n",
    "\n",
    "* $\\mathbf{b}_k(1) = \\text{sign}(\\mathbf{M} \\, \\mathbf{a}_k(1))$\n",
    "\n",
    "\n",
    "* $\\mathbf{a}_k(2) = \\text{sign}(\\mathbf{M}^T \\, \\mathbf{b}_k(1))$\n",
    "\n",
    "\n",
    "* Y así sucesivamente hasta que $\\mathbf{b}_k(t+1) = \\mathbf{b}_k(t)$ y $\\mathbf{a}_k(t+1) = \\mathbf{a}_k(t)$ "
   ]
  },
  {
   "cell_type": "markdown",
   "metadata": {},
   "source": [
    "La matriz $\\mathbf{M}$ se calcula como:\n",
    "\n",
    "$$\\mathbf{M} = \\sum_{k=1}^Q \\textbf{b}_k \\mathbf{a}_k^T$$"
   ]
  },
  {
   "cell_type": "markdown",
   "metadata": {},
   "source": [
    "---\n",
    "**Ejercicio.--** Implemente una BAM usando `TensorFlow`. Verifique la reconstrucción de los patrones incompletos y contaminados con ruído.\n",
    "\n",
    "---"
   ]
  },
  {
   "cell_type": "markdown",
   "metadata": {},
   "source": [
    "### Solución mediante una red discreta de Hopfield\n",
    "\n",
    "Para una matriz lineal auto-asociativa, los coeficientes se calculan como:\n",
    "\n",
    "$$\\mathbf{M} = \\sum_{k=1}^Q \\mathbf{a}_k \\mathbf{a}_K^T$$\n",
    "\n",
    "La red discreta de Hopfield se obtiene al unir los nodos de entrada y salida en una sola capa:\n",
    "\n",
    "![alt](images/ModelosAsociativos-09.png)\n",
    "\n",
    "Este tipo de red neuronal tiene las siguientes características:\n",
    "\n",
    "* La función de activación de las neuronas es $f(u)=\\text{sign}⁡(u)$.\n",
    "\n",
    "\n",
    "* Los elementos de los vectores a asociar son bipolares.\n",
    "\n",
    "\n",
    "* Los pesos de las conexiones se calculan como:\n",
    "\n",
    "$$m_{i,j} = \\frac{1}{P} \\sum_{p=1}^P (a_{p,i} * a_{p,j})$$\n",
    "\n",
    "\n",
    "* \tLos nodos toman valores $\\{-1,+1\\}$.\n"
   ]
  },
  {
   "cell_type": "markdown",
   "metadata": {},
   "source": [
    "La propagación de la señal puede ser sincrónica o asincrónica.\n",
    "\n",
    "* Prograpación asincrónica: cuando un patrón es presentado, el valor de un solo nodo es actualizado en cada instante de tiempo hasta que la red se estabiliza.\n",
    "$$\n",
    "x_{p,i}(t+1)=\n",
    "\\begin{cases}\n",
    "x_{p,i}(t),         & \\text{if } i = k \\\\\n",
    "\\text{sign} \n",
    "\\left(  \n",
    "\\sum_i^n w_{i,j} \\cdot  x_{p,j}(t) + I_{p,i}\n",
    "\\right), & \\text{if } i \\ne k\n",
    "\\end{cases}\n",
    "$$\n",
    "\n",
    "  - $x_{p,i}$ representa el estado actual de la neurona $i$ cuando se presentó el patrón $p$\n",
    "  \n",
    "  - $I_{p,i}$ es la entrada externa a la neurona $i$ para el patrón $p$ en el instante actual.\n",
    "\n",
    "\n",
    "* Propagación sincrónica:\n",
    "$$\n",
    "x_{p,i}(t+1)=\n",
    "\\text{sign} \n",
    "\\left(  \n",
    "\\sum_i^n w_{i,j} \\cdot  x_{p,j}(t) + I_{p,i}\n",
    "\\right)\n",
    "$$\n",
    "\n"
   ]
  },
  {
   "cell_type": "markdown",
   "metadata": {},
   "source": [
    "---\n",
    "**Ejercicio.--** Calcule los pesos de los nodos de una red discreta de Hoptfield para los patrones $[(+1,+1,+1),(-1,-1,-1),(+1,-1,-1)]$\n",
    "\n",
    "---\n",
    "\n",
    "**Ejercicio.--** Realice la propagación sincrónica de los siguientes patrones suponiendo que los pesos se actualizan secuencialmente.\n",
    "\n",
    "* $(+1,+1,-1)$\n",
    "\n",
    "\n",
    "* $(-1,+1,+1)$\n",
    "\n",
    "\n",
    "* $(0,0,+1)$\n",
    "\n",
    "---\n",
    "\n",
    "**Ejercicio.--** Implemente el algoritmo en `TensorFlow`.\n",
    "\n",
    "---"
   ]
  },
  {
   "cell_type": "markdown",
   "metadata": {},
   "source": [
    "### Brain-state-in-a-Box"
   ]
  },
  {
   "cell_type": "markdown",
   "metadata": {},
   "source": [
    "Es similar a una memoria discreta de Hopfield con las siguientes variaciones:\n",
    "\n",
    "\n",
    "* La función de activación de las neuronas es $f(u)=\\min⁡(1,\\max⁡(-1,u))$.\n",
    "\n",
    "\n",
    "* Todos los nodos son actualizados simultáneamente\n",
    "\n",
    "\n",
    "* Los nodos toman valores en el intervalo $[-1,+1]$.\n",
    "\n",
    "\t\n",
    "* Los patrones a asociar son bipolares.\n",
    "    \n",
    "\n",
    "* Los pesos de las conexiones se calculan como:\n",
    "\n",
    "\n",
    "$$m_{i,j}=\\frac{1}{P} \\sum_{p=1}^P \\left( a_{p,i} \\cdot a_{p,j} \\right) $$\n"
   ]
  },
  {
   "cell_type": "markdown",
   "metadata": {},
   "source": [
    "---\n",
    "**Ejercicio.--** Calcule los pesos de los nodos para los patrones $[(+1,+1,+1),(-1,-1,-1),(+1,-1,-1)]$\n",
    "\n",
    "---\n",
    "\n",
    "**Ejercicio.--** Realice la propagación del patrón de entrada $(0.5, 0.6, 0.1)$ hasta que la red se estabilice.\n",
    "\n",
    "---\n",
    "**Ejercicio.--** Implemente el algoritmo en `TensorFlow`.\n",
    "\n",
    "---"
   ]
  },
  {
   "cell_type": "markdown",
   "metadata": {},
   "source": [
    "Modelos Asociativos y Aprendizaje Hebbiano\n",
    "===\n",
    "\n",
    "**Juan David Velásquez Henao**  \n",
    "jdvelasq@unal.edu.co   \n",
    "Universidad Nacional de Colombia, Sede Medellín  \n",
    "Facultad de Minas  \n",
    "Medellín, Colombia\n",
    "\n",
    "---\n",
    "\n",
    "Haga click [aquí](https://github.com/jdvelasq/deep-neural-nets/tree/master/) para acceder al repositorio online.\n",
    "\n",
    "Haga click [aquí](http://nbviewer.jupyter.org/github/jdvelasq/deep-neural-nets/tree/master/) para explorar el repositorio usando `nbviewer`. "
   ]
  }
 ],
 "metadata": {
  "kernelspec": {
   "display_name": "Python 3",
   "language": "python",
   "name": "python3"
  },
  "language_info": {
   "codemirror_mode": {
    "name": "ipython",
    "version": 3
   },
   "file_extension": ".py",
   "mimetype": "text/x-python",
   "name": "python",
   "nbconvert_exporter": "python",
   "pygments_lexer": "ipython3",
   "version": "3.6.5"
  }
 },
 "nbformat": 4,
 "nbformat_minor": 2
}
