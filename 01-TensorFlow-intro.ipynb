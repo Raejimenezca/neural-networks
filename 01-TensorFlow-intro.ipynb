{
 "cells": [
  {
   "cell_type": "markdown",
   "metadata": {},
   "source": [
    "Introducción a TensorFlow y Keras\n",
    "===\n",
    "\n",
    "**Juan David Velásquez Henao**  \n",
    "jdvelasq@unal.edu.co   \n",
    "Universidad Nacional de Colombia, Sede Medellín  \n",
    "Facultad de Minas  \n",
    "Medellín, Colombia\n",
    "\n",
    "---\n",
    "\n",
    "Haga click [aquí](https://github.com/jdvelasq/neural-networks/tree/master/) para acceder al repositorio online.\n",
    "\n",
    "Haga click [aquí](http://nbviewer.jupyter.org/github/jdvelasq/neural-networks/tree/master/) para explorar el repositorio usando `nbviewer`. "
   ]
  },
  {
   "cell_type": "markdown",
   "metadata": {},
   "source": [
    "---"
   ]
  },
  {
   "cell_type": "markdown",
   "metadata": {},
   "source": [
    "Sitios web:\n",
    "\n",
    "* https://keras.io\n",
    "\n",
    "\n",
    "* https://www.tensorflow.org"
   ]
  },
  {
   "cell_type": "markdown",
   "metadata": {},
   "source": [
    "---"
   ]
  },
  {
   "cell_type": "markdown",
   "metadata": {},
   "source": [
    "### Operaciones matemáticas básicas"
   ]
  },
  {
   "cell_type": "code",
   "execution_count": 1,
   "metadata": {},
   "outputs": [
    {
     "name": "stderr",
     "output_type": "stream",
     "text": [
      "/Users/jdvelasq/anaconda3/lib/python3.6/site-packages/h5py/__init__.py:36: FutureWarning: Conversion of the second argument of issubdtype from `float` to `np.floating` is deprecated. In future, it will be treated as `np.float64 == np.dtype(float).type`.\n",
      "  from ._conv import register_converters as _register_converters\n"
     ]
    }
   ],
   "source": [
    "import tensorflow as tf\n",
    "import numpy as np"
   ]
  },
  {
   "cell_type": "markdown",
   "metadata": {},
   "source": [
    "En el siguiente ejemplo se evaluará la expresión 5 * 2 - (3 + 2). Esta expresión puede ser representada a través del siguiente árbol sintáctico:\n",
    "\n",
    "     [-]\n",
    "      +--- [*]\n",
    "      |     +---- [5]\n",
    "      |     +---- [2]\n",
    "      |\n",
    "      +--- [+]\n",
    "            +---- [3]\n",
    "            +---- [2]\n",
    "\n",
    "Note que en esta expresión el nodo con la constante 2 es común a ambas ramas y podría representarse de forma optimizada como:\n",
    "\n",
    "     [-]\n",
    "      +--- [*]\n",
    "      |     +---- [5]\n",
    "      |     +-----------+\n",
    "      |                 |\n",
    "      +--- [+]         [2] \n",
    "            +---- [3]   |\n",
    "            +-----------+ \n",
    "\n",
    "Para realizar la evaluación usando `TensorFlow`, se debe construir explícitamente el grafo, para lo cual se enumeran los nodos de la siguiente forma:\n",
    "\n",
    "     [-] (node6)\n",
    "      +--- [*] (node4)\n",
    "      |     +---- [5] (node1)\n",
    "      |     +---------------------+\n",
    "      |                           |\n",
    "      +--- [+] (node5)           [2] (node2)\n",
    "            +---- [3] (node3)     |\n",
    "            +---------------------+ \n"
   ]
  },
  {
   "cell_type": "code",
   "execution_count": 2,
   "metadata": {},
   "outputs": [],
   "source": [
    "node1 = tf.constant(5.0)  \n",
    "node2 = tf.constant(2.0)  \n",
    "node3 = tf.constant(3.0)  \n",
    "node4 = tf.multiply(node1, node2)\n",
    "node5 = tf.add(node3, node2)\n",
    "node6 = tf.subtract(node4, node5)"
   ]
  },
  {
   "cell_type": "code",
   "execution_count": 3,
   "metadata": {},
   "outputs": [
    {
     "data": {
      "text/plain": [
       "<tensorflow.python.framework.ops.Graph at 0xb1e92e2e8>"
      ]
     },
     "execution_count": 3,
     "metadata": {},
     "output_type": "execute_result"
    }
   ],
   "source": [
    "## el grafo puede accederse asi:\n",
    "tf.get_default_graph()"
   ]
  },
  {
   "cell_type": "markdown",
   "metadata": {},
   "source": [
    "Para poder ejecutar los cálculos es necesario abrir una sesión."
   ]
  },
  {
   "cell_type": "code",
   "execution_count": 4,
   "metadata": {},
   "outputs": [
    {
     "name": "stdout",
     "output_type": "stream",
     "text": [
      "outs = 5.0\n"
     ]
    }
   ],
   "source": [
    "## abre la sesión y luego la cierra\n",
    "with tf.Session() as sess:\n",
    "    outs = sess.run(node6)          ## realiza la evaluación\n",
    "    print(\"outs = {}\".format(outs)) ## imprime el resultado de la evaluación"
   ]
  },
  {
   "cell_type": "code",
   "execution_count": 5,
   "metadata": {},
   "outputs": [
    {
     "name": "stdout",
     "output_type": "stream",
     "text": [
      "node6 = 5.0\n",
      "node4 = 10.0\n"
     ]
    }
   ],
   "source": [
    "## Para computar el resultado en un nodo se puede usar eval()\n",
    "with tf.Session() as sess:\n",
    "    print('node6 = {}'.format(node6.eval()))\n",
    "    print('node4 = {}'.format(node4.eval()))"
   ]
  },
  {
   "cell_type": "code",
   "execution_count": 6,
   "metadata": {},
   "outputs": [
    {
     "name": "stdout",
     "output_type": "stream",
     "text": [
      "outs = [5.0, 10.0, 5.0]\n"
     ]
    }
   ],
   "source": [
    "## run() admite una lista de nodos a evaluar\n",
    "with tf.Session() as sess:\n",
    "    outs = sess.run([node6, node4, node5])\n",
    "    print(\"outs = {}\".format(outs))"
   ]
  },
  {
   "cell_type": "code",
   "execution_count": 7,
   "metadata": {},
   "outputs": [
    {
     "name": "stdout",
     "output_type": "stream",
     "text": [
      "outs = 5.0\n"
     ]
    }
   ],
   "source": [
    "## la sesión puede ser almacenada en una variable\n",
    "## y usada en cálculos posteriores\n",
    "sess = tf.Session()             ## abre la sesion (en IPython use tf.InteractiveSession())\n",
    "outs = sess.run(node6)          ## evalua el grafo y almacena el resultado\n",
    "sess.close()                    ## cierra la sesión\n",
    "print(\"outs = {}\".format(outs)) ## imprime el resultado de la evaluación"
   ]
  },
  {
   "cell_type": "markdown",
   "metadata": {},
   "source": [
    "A continuación se resumen las operaciones mas comunes (la lista completa de operadores puede ser consultada en https://www.tensorflow.org/api_guides/python/math_ops)\n",
    "\n",
    "    Operacion               equivalente\n",
    "    --------------------------------------\n",
    "    tf.add(a, b)            a + b\n",
    "    tf.multiply(a, b)       a * b\n",
    "    tf.subtract(a, b)       a - b\n",
    "    tf.divide(a, b)         a / b\n",
    "    tf.pow(a, b)            a ** b\n",
    "    tf.mod(a, b)            a % b\n",
    "    \n",
    "    tf.abs(a)               abs(a)\n",
    "    tf.square(a)            a ** 2\n",
    "    tf.sqrt(a)              sqrt(a)\n",
    "    tf.exp(a)               exp(a)\n",
    "    tf.negative(a)          -a\n",
    "    tf.sigmoid(a)           1 / (1 + exp(-a))\n",
    "    tf.sign                 sign(a)\n",
    "    tf.maximum\n",
    "    tf.minimum\n",
    "    \n",
    "    tf.logical_and(a, b)    a & b\n",
    "    tf.logical_or(a, b)     a | b   \n",
    "    tf.greater(a, b)        a > b\n",
    "    tf.greater_equal(a, b)  a >= b\n",
    "    tf.less_equal(a, b)     a <= b\n",
    "    tf.less(a, b)           a < b\n",
    "    tf.logical_not(a)       ~a \n",
    "    tf.equal(a, b)          a == b\n",
    "    tf.not_equal            a != b\n",
    "    \n"
   ]
  },
  {
   "cell_type": "markdown",
   "metadata": {},
   "source": [
    "---\n",
    "**Ejercicio.--** Compute $5*2^2 + 3 * 5 - 18$ usando TensorFlow.\n",
    "\n",
    "---"
   ]
  },
  {
   "cell_type": "markdown",
   "metadata": {},
   "source": [
    "### Matrices"
   ]
  },
  {
   "cell_type": "code",
   "execution_count": 8,
   "metadata": {},
   "outputs": [
    {
     "data": {
      "text/plain": [
       "<tensorflow.python.client.session.InteractiveSession at 0xb1e91eeb8>"
      ]
     },
     "execution_count": 8,
     "metadata": {},
     "output_type": "execute_result"
    }
   ],
   "source": [
    "## Esta opción abre la sesión interactiva y la \n",
    "## mantiene abierta\n",
    "tf.InteractiveSession()"
   ]
  },
  {
   "cell_type": "code",
   "execution_count": 9,
   "metadata": {},
   "outputs": [
    {
     "data": {
      "text/plain": [
       "array([[1., 1., 1.],\n",
       "       [1., 1., 1.],\n",
       "       [1., 1., 1.]])"
      ]
     },
     "execution_count": 9,
     "metadata": {},
     "output_type": "execute_result"
    }
   ],
   "source": [
    "a = np.ones((3,3))\n",
    "b = tf.convert_to_tensor(a)\n",
    "b.eval()\n",
    "#sess.run(b)"
   ]
  },
  {
   "cell_type": "code",
   "execution_count": 10,
   "metadata": {},
   "outputs": [
    {
     "data": {
      "text/plain": [
       "array([[0., 0.],\n",
       "       [0., 0.]], dtype=float32)"
      ]
     },
     "execution_count": 10,
     "metadata": {},
     "output_type": "execute_result"
    }
   ],
   "source": [
    "tf.zeros((2,2)).eval()"
   ]
  },
  {
   "cell_type": "code",
   "execution_count": 11,
   "metadata": {
    "scrolled": false
   },
   "outputs": [
    {
     "data": {
      "text/plain": [
       "array([[1., 1.],\n",
       "       [1., 1.]], dtype=float32)"
      ]
     },
     "execution_count": 11,
     "metadata": {},
     "output_type": "execute_result"
    }
   ],
   "source": [
    "tf.ones((2,2)).eval()"
   ]
  },
  {
   "cell_type": "code",
   "execution_count": 12,
   "metadata": {},
   "outputs": [
    {
     "data": {
      "text/plain": [
       "array([[-0.26979545,  0.5981732 ],\n",
       "       [ 0.13635306,  0.75549424],\n",
       "       [ 1.4228015 , -0.66110176]], dtype=float32)"
      ]
     },
     "execution_count": 12,
     "metadata": {},
     "output_type": "execute_result"
    }
   ],
   "source": [
    "tf.random_normal((3,2),     ## shape\n",
    "                 0,         ## mean\n",
    "                 1).eval()  ## sd"
   ]
  },
  {
   "cell_type": "code",
   "execution_count": 13,
   "metadata": {
    "scrolled": false
   },
   "outputs": [
    {
     "data": {
      "text/plain": [
       "array([[ 1.9580271e-04,  6.2689185e-01],\n",
       "       [-7.0928586e-01,  2.4103402e-01],\n",
       "       [ 2.4478497e-01, -1.0959780e-01]], dtype=float32)"
      ]
     },
     "execution_count": 13,
     "metadata": {},
     "output_type": "execute_result"
    }
   ],
   "source": [
    "tf.truncated_normal((3,2),  ## shape\n",
    "                    0,      ## mean\n",
    "                    1).eval()     ## sd"
   ]
  },
  {
   "cell_type": "code",
   "execution_count": 14,
   "metadata": {
    "scrolled": false
   },
   "outputs": [
    {
     "data": {
      "text/plain": [
       "array([[0.2325803 , 0.6902174 ],\n",
       "       [0.75136256, 0.12303627],\n",
       "       [0.10225999, 0.6465963 ]], dtype=float32)"
      ]
     },
     "execution_count": 14,
     "metadata": {},
     "output_type": "execute_result"
    }
   ],
   "source": [
    "tf.random_uniform((3,2),     ## shape\n",
    "                  0,         ## minval\n",
    "                  1).eval()  ## maxval"
   ]
  },
  {
   "cell_type": "code",
   "execution_count": 15,
   "metadata": {
    "scrolled": true
   },
   "outputs": [
    {
     "data": {
      "text/plain": [
       "array([[4, 4],\n",
       "       [4, 4],\n",
       "       [4, 4]], dtype=int32)"
      ]
     },
     "execution_count": 15,
     "metadata": {},
     "output_type": "execute_result"
    }
   ],
   "source": [
    "tf.fill((3,2),      ## shape\n",
    "        4).eval()   ## value"
   ]
  },
  {
   "cell_type": "code",
   "execution_count": 16,
   "metadata": {},
   "outputs": [
    {
     "data": {
      "text/plain": [
       "array([0.        , 0.1       , 0.2       , 0.3       , 0.4       ,\n",
       "       0.5       , 0.6       , 0.7       , 0.8       , 0.90000004,\n",
       "       1.        ], dtype=float32)"
      ]
     },
     "execution_count": 16,
     "metadata": {},
     "output_type": "execute_result"
    }
   ],
   "source": [
    "tf.linspace(0.0, 1.0, 11).eval()"
   ]
  },
  {
   "cell_type": "code",
   "execution_count": 17,
   "metadata": {},
   "outputs": [
    {
     "data": {
      "text/plain": [
       "array([[1, 2, 3],\n",
       "       [4, 5, 6]], dtype=int32)"
      ]
     },
     "execution_count": 17,
     "metadata": {},
     "output_type": "execute_result"
    }
   ],
   "source": [
    "tf.constant([[1,2,3], \n",
    "             [4,5,6]]).eval()"
   ]
  },
  {
   "cell_type": "code",
   "execution_count": 18,
   "metadata": {
    "scrolled": false
   },
   "outputs": [
    {
     "data": {
      "text/plain": [
       "array([6, 5, 2, 1, 3, 4], dtype=int32)"
      ]
     },
     "execution_count": 18,
     "metadata": {},
     "output_type": "execute_result"
    }
   ],
   "source": [
    "tf.random_shuffle(tf.constant([1,2,3,4,5,6])).eval()"
   ]
  },
  {
   "cell_type": "code",
   "execution_count": 19,
   "metadata": {},
   "outputs": [],
   "source": [
    "m = tf.constant([[1,2,3], \n",
    "                 [4,5,6]])"
   ]
  },
  {
   "cell_type": "code",
   "execution_count": 20,
   "metadata": {},
   "outputs": [
    {
     "data": {
      "text/plain": [
       "array([5, 7, 9], dtype=int32)"
      ]
     },
     "execution_count": 20,
     "metadata": {},
     "output_type": "execute_result"
    }
   ],
   "source": [
    "## suma de las columnas\n",
    "tf.reduce_sum(m, reduction_indices = 0).eval()"
   ]
  },
  {
   "cell_type": "code",
   "execution_count": 21,
   "metadata": {},
   "outputs": [
    {
     "data": {
      "text/plain": [
       "array([ 6, 15], dtype=int32)"
      ]
     },
     "execution_count": 21,
     "metadata": {},
     "output_type": "execute_result"
    }
   ],
   "source": [
    "## suma de las filas\n",
    "tf.reduce_sum(m, reduction_indices = 1).eval()"
   ]
  },
  {
   "cell_type": "code",
   "execution_count": 22,
   "metadata": {},
   "outputs": [
    {
     "data": {
      "text/plain": [
       "21"
      ]
     },
     "execution_count": 22,
     "metadata": {},
     "output_type": "execute_result"
    }
   ],
   "source": [
    "## suma de todos los elementos\n",
    "tf.reduce_sum(m).eval()"
   ]
  },
  {
   "cell_type": "markdown",
   "metadata": {},
   "source": [
    "`TensorFlow` implementa las siguiente funciones para reducir un tensor (https://www.tensorflow.org/api_guides/python/math_ops#Reduction)\n",
    "\n",
    "    tf.reduce_sum\n",
    "    tf.reduce_prod\n",
    "    tf.reduce_min\n",
    "    tf.reduce_max\n",
    "    tf.reduce_mean\n",
    "    tf.reduce_all\n",
    "    tf.reduce_any\n",
    "    tf.reduce_logsumexp\n",
    "    tf.count_nonzero\n",
    "    tf.accumulate_n\n",
    "    tf.einsum\n",
    "    "
   ]
  },
  {
   "cell_type": "code",
   "execution_count": 23,
   "metadata": {},
   "outputs": [
    {
     "data": {
      "text/plain": [
       "TensorShape([Dimension(2), Dimension(3)])"
      ]
     },
     "execution_count": 23,
     "metadata": {},
     "output_type": "execute_result"
    }
   ],
   "source": [
    "## dimensiones\n",
    "m = tf.constant([[1,2,3], \n",
    "                 [4,5,6]])\n",
    "m.get_shape()"
   ]
  },
  {
   "cell_type": "code",
   "execution_count": 24,
   "metadata": {},
   "outputs": [
    {
     "data": {
      "text/plain": [
       "array([[ 2,  4,  6],\n",
       "       [ 8, 10, 12]], dtype=int32)"
      ]
     },
     "execution_count": 24,
     "metadata": {},
     "output_type": "execute_result"
    }
   ],
   "source": [
    "a = m + m\n",
    "a.eval()"
   ]
  },
  {
   "cell_type": "code",
   "execution_count": 25,
   "metadata": {},
   "outputs": [
    {
     "data": {
      "text/plain": [
       "array([[1, 2, 3, 4, 5, 6]], dtype=int32)"
      ]
     },
     "execution_count": 25,
     "metadata": {},
     "output_type": "execute_result"
    }
   ],
   "source": [
    "tf.reshape(m,(1,6)).eval()"
   ]
  },
  {
   "cell_type": "code",
   "execution_count": 26,
   "metadata": {
    "scrolled": true
   },
   "outputs": [
    {
     "data": {
      "text/plain": [
       "array([[1, 2],\n",
       "       [3, 4],\n",
       "       [5, 6]], dtype=int32)"
      ]
     },
     "execution_count": 26,
     "metadata": {},
     "output_type": "execute_result"
    }
   ],
   "source": [
    "tf.reshape(m,(3,2)).eval()"
   ]
  },
  {
   "cell_type": "code",
   "execution_count": 27,
   "metadata": {},
   "outputs": [
    {
     "data": {
      "text/plain": [
       "array([[ 7,  4],\n",
       "       [ 6, 14]], dtype=int32)"
      ]
     },
     "execution_count": 27,
     "metadata": {},
     "output_type": "execute_result"
    }
   ],
   "source": [
    "a = tf.constant([[1, 2], [3, 4]])\n",
    "b = tf.constant([[5, 0], [0, 6]])\n",
    "tf.accumulate_n([a, b, a]).eval()  # [[7, 4], [6, 14]]"
   ]
  },
  {
   "cell_type": "code",
   "execution_count": 28,
   "metadata": {},
   "outputs": [
    {
     "data": {
      "text/plain": [
       "array([[ 7,  4],\n",
       "       [ 6, 14]], dtype=int32)"
      ]
     },
     "execution_count": 28,
     "metadata": {},
     "output_type": "execute_result"
    }
   ],
   "source": [
    "tf.add_n([a, b, a]).eval()"
   ]
  },
  {
   "cell_type": "code",
   "execution_count": 29,
   "metadata": {},
   "outputs": [
    {
     "data": {
      "text/plain": [
       "3"
      ]
     },
     "execution_count": 29,
     "metadata": {},
     "output_type": "execute_result"
    }
   ],
   "source": [
    "tf.argmax(tf.constant([1,3,2,4,0])).eval()"
   ]
  },
  {
   "cell_type": "code",
   "execution_count": 30,
   "metadata": {},
   "outputs": [
    {
     "data": {
      "text/plain": [
       "4"
      ]
     },
     "execution_count": 30,
     "metadata": {},
     "output_type": "execute_result"
    }
   ],
   "source": [
    "tf.argmin(tf.constant([1,3,2,4,0])).eval()"
   ]
  },
  {
   "cell_type": "code",
   "execution_count": 31,
   "metadata": {},
   "outputs": [
    {
     "name": "stdout",
     "output_type": "stream",
     "text": [
      "[1. 0.]\n"
     ]
    }
   ],
   "source": [
    "x = tf.constant([10.0, -1.0])\n",
    "y = tf.map_fn(lambda m: tf.cond(tf.greater_equal(m, 0.0), \n",
    "                                true_fn = lambda: tf.constant(1.), \n",
    "                                false_fn = lambda : tf.constant(0.0)),\n",
    "              x)\n",
    "\n",
    "with tf.Session() as sess:\n",
    "    print(sess.run(y))"
   ]
  },
  {
   "cell_type": "code",
   "execution_count": 32,
   "metadata": {},
   "outputs": [
    {
     "name": "stdout",
     "output_type": "stream",
     "text": [
      "[[1.]\n",
      " [0.]]\n"
     ]
    }
   ],
   "source": [
    "x = tf.constant([[10.0], [-1.0]])\n",
    "y = tf.map_fn(lambda m: tf.cond(tf.greater_equal(m[0], 0.0), \n",
    "                                true_fn = lambda: tf.constant([1.]), \n",
    "                                false_fn = lambda : tf.constant([0.0])),\n",
    "              x)\n",
    "\n",
    "with tf.Session() as sess:\n",
    "    print(sess.run(y))\n",
    "    "
   ]
  },
  {
   "cell_type": "markdown",
   "metadata": {},
   "source": [
    "### Variables y Placeholders"
   ]
  },
  {
   "cell_type": "markdown",
   "metadata": {},
   "source": [
    "Las variables pueden entenderse como las variables locales de una función, las cuales no pueden ser accesadas desde el exterior de la función. Los placeholders son equivalentes a los parámetros, los cuales pueden tomar cualquier valor cuando se llama la función. En el siguiente ejemplo se evalua la expresión a * b - (b + c) para diferentes valores de a, b y c.\n",
    "\n",
    "     [-] (node6)\n",
    "      +--- [*] (node4)\n",
    "      |     +---- [a] (node1)\n",
    "      |     +---------------------+\n",
    "      |                           |\n",
    "      +--- [+] (node5)           [b] (node2)\n",
    "            +---- [c] (node3)     |\n",
    "            +---------------------+ "
   ]
  },
  {
   "cell_type": "code",
   "execution_count": 33,
   "metadata": {},
   "outputs": [
    {
     "name": "stdout",
     "output_type": "stream",
     "text": [
      "10.0\n",
      "3.0\n",
      "8.0\n"
     ]
    }
   ],
   "source": [
    "a = tf.placeholder(tf.float32)\n",
    "b = tf.placeholder(tf.float32)\n",
    "c = tf.placeholder(tf.float32)\n",
    "\n",
    "node4 = tf.multiply(a, b)\n",
    "node5 = tf.add(c, b)\n",
    "node6 = tf.subtract(node4, node5)\n",
    "\n",
    "with tf.Session() as sess:\n",
    "    print(sess.run(node6, feed_dict={a: 5, b:3, c:2}))\n",
    "    print(sess.run(node6, feed_dict={a: 4, b:2, c:3}))\n",
    "    print(sess.run(node6, feed_dict={a: 4, b:3, c:1}))"
   ]
  },
  {
   "cell_type": "code",
   "execution_count": 34,
   "metadata": {},
   "outputs": [
    {
     "name": "stdout",
     "output_type": "stream",
     "text": [
      "[[-0.46384197 -1.2342931   0.5352072 ]\n",
      " [-2.9913986  -2.8914263   0.07552639]\n",
      " [ 1.3343722   1.0699565  -0.2756308 ]]\n"
     ]
    }
   ],
   "source": [
    "##\n",
    "## la misma operación pero matricial\n",
    "##\n",
    "a = tf.placeholder(tf.float32, shape=(3,3))\n",
    "b = tf.placeholder(tf.float32, shape=(3,3))\n",
    "c = tf.placeholder(tf.float32, shape=(3,3))\n",
    "\n",
    "node4 = tf.multiply(a, b)\n",
    "node5 = tf.add(c, b)\n",
    "node6 = tf.subtract(node4, node5)\n",
    "\n",
    "with tf.Session() as sess:    \n",
    "    print(sess.run(node6, feed_dict={a: [[1, 0, 0,],\n",
    "                                         [0, 1, 0,],\n",
    "                                         [0, 0, 1,]],\n",
    "                                     b: np.random.normal(size=(3,3)), \n",
    "                                     c: np.random.normal(size=(3,3))}))"
   ]
  },
  {
   "cell_type": "markdown",
   "metadata": {},
   "source": [
    "El siguiente ejemplo presente un acumulador para el calculo de $n = n + 1$.\n",
    "\n",
    "    [=] (node1)  \n",
    "     +---[n]\n",
    "     +---[+] (node0)\n",
    "          +----[n]\n",
    "          +----[1]\n",
    "     "
   ]
  },
  {
   "cell_type": "code",
   "execution_count": 35,
   "metadata": {
    "scrolled": true
   },
   "outputs": [
    {
     "name": "stdout",
     "output_type": "stream",
     "text": [
      "1\n",
      "2\n",
      "3\n",
      "4\n",
      "5\n"
     ]
    }
   ],
   "source": [
    "## crea la variable y la inicializa a cero\n",
    "n = tf.Variable(0)\n",
    "\n",
    "## arbol sintactico que representa las operaciones\n",
    "node0 = tf.add(n, tf.constant(1))\n",
    "node1 = tf.assign(n, node0)\n",
    "\n",
    "## evalua\n",
    "with tf.Session() as sess:\n",
    "    \n",
    "    ## las variables deben ser inicializadas antes\n",
    "    ## de usarse\n",
    "    sess.run(tf.global_variables_initializer())\n",
    "    for i in range(5):\n",
    "        ## el valor de las variables se retiene entre\n",
    "        ## las llamadas a run()\n",
    "        print(sess.run(node1))"
   ]
  },
  {
   "cell_type": "code",
   "execution_count": 36,
   "metadata": {},
   "outputs": [
    {
     "name": "stdout",
     "output_type": "stream",
     "text": [
      "1\n",
      "2\n",
      "3\n",
      "4\n",
      "5\n"
     ]
    }
   ],
   "source": [
    "## crea la variable y la inicializa a cero\n",
    "n = tf.Variable(0)\n",
    "\n",
    "## arbol sintactico que representa las operaciones\n",
    "## se usa tf.assign_add para simplificar el arbol\n",
    "## tambien existe tf.assign_sub\n",
    "node0 = tf.assign_add(n, tf.constant(1))\n",
    "with tf.Session() as sess:\n",
    "    sess.run(tf.global_variables_initializer())\n",
    "    for i in range(5):\n",
    "        print(sess.run(node0))"
   ]
  },
  {
   "cell_type": "markdown",
   "metadata": {},
   "source": [
    "---\n",
    "**Ejercicio.--** Indique para que sirven las siguientes funciones del modulo `tf` y realice un ejemplo:\n",
    "\n",
    "    tf.clip_by_value\n",
    "    tf.clip_by_norm\n",
    "    tf.clip_by_average_norm\n",
    "    tf.clip_by_global_norm\n",
    "    tf.clip_by_norm\n",
    "    tf.concat\n",
    "    tf.case\n",
    "    tf.cond\n",
    "    tf.cumprod\n",
    "    tf.cumsum\n",
    "    tf.diag\n",
    "    tf.inverse_permutation\n",
    "    tf.log_sigmoid \n",
    "    tf.map_fn\n",
    "    \n",
    "    tf.matrix_inverse\n",
    "    tf.matrix_diag\n",
    "    tf.matrix_set_diag\n",
    "    tf.matrix_solve\n",
    "    tf.matrix_transpose\n",
    "    tf.parallel_stack\n",
    "    tf.stack\n",
    "    tf.random_shuffle\n",
    "    tf.reverse\n",
    "    \n",
    "    tf.maximum\n",
    "    tf.minimum\n",
    "    \n",
    "---"
   ]
  },
  {
   "cell_type": "markdown",
   "metadata": {},
   "source": [
    "### Funciones de activación"
   ]
  },
  {
   "cell_type": "code",
   "execution_count": 37,
   "metadata": {},
   "outputs": [
    {
     "data": {
      "text/plain": [
       "array([ 0.,  3., 10.], dtype=float32)"
      ]
     },
     "execution_count": 37,
     "metadata": {},
     "output_type": "execute_result"
    }
   ],
   "source": [
    "tf.nn.relu([-3., 3., 10.]).eval()"
   ]
  },
  {
   "cell_type": "code",
   "execution_count": 38,
   "metadata": {},
   "outputs": [
    {
     "data": {
      "text/plain": [
       "array([0., 3., 6.], dtype=float32)"
      ]
     },
     "execution_count": 38,
     "metadata": {},
     "output_type": "execute_result"
    }
   ],
   "source": [
    "tf.nn.relu6([-3., 3., 10.]).eval()"
   ]
  },
  {
   "cell_type": "code",
   "execution_count": 39,
   "metadata": {},
   "outputs": [
    {
     "data": {
      "text/plain": [
       "array([0.26894143, 0.5       , 0.7310586 ], dtype=float32)"
      ]
     },
     "execution_count": 39,
     "metadata": {},
     "output_type": "execute_result"
    }
   ],
   "source": [
    "tf.nn.sigmoid([-1., 0., 1.]).eval()"
   ]
  },
  {
   "cell_type": "code",
   "execution_count": 40,
   "metadata": {},
   "outputs": [
    {
     "data": {
      "text/plain": [
       "array([-0.5,  0. , -0.5], dtype=float32)"
      ]
     },
     "execution_count": 40,
     "metadata": {},
     "output_type": "execute_result"
    }
   ],
   "source": [
    "tf.nn.softsign([-1., 0., -1.]).eval()"
   ]
  },
  {
   "cell_type": "code",
   "execution_count": 41,
   "metadata": {},
   "outputs": [
    {
     "data": {
      "text/plain": [
       "array([0.31326166, 0.6931472 , 0.31326166], dtype=float32)"
      ]
     },
     "execution_count": 41,
     "metadata": {},
     "output_type": "execute_result"
    }
   ],
   "source": [
    "tf.nn.softplus([-1., 0., -1.]).eval()"
   ]
  },
  {
   "cell_type": "code",
   "execution_count": 42,
   "metadata": {
    "scrolled": true
   },
   "outputs": [
    {
     "data": {
      "text/plain": [
       "array([-0.63212055,  0.        , -0.63212055], dtype=float32)"
      ]
     },
     "execution_count": 42,
     "metadata": {},
     "output_type": "execute_result"
    }
   ],
   "source": [
    "tf.nn.elu([-1., 0., -1.]).eval()"
   ]
  },
  {
   "cell_type": "markdown",
   "metadata": {},
   "source": [
    "### Optimización de modelos (regresión lineal)\n",
    "\n",
    "El siguiente ejemplo ilustra la construcción y estimación de un modelo de regresión lineal usando `TensorFlow`."
   ]
  },
  {
   "cell_type": "code",
   "execution_count": 43,
   "metadata": {},
   "outputs": [
    {
     "name": "stdout",
     "output_type": "stream",
     "text": [
      "71.14235\n",
      "2.073927\n",
      "0.21756828\n",
      "0.16102216\n",
      "0.1530072\n",
      "[1.1840729, 0.45279855]\n"
     ]
    }
   ],
   "source": [
    "## \n",
    "## El modelo es el siguiente:\n",
    "##\n",
    "##    y = w' x + b\n",
    "##\n",
    "## Muestra de datos:\n",
    "##\n",
    "##    x      y\n",
    "## -------------\n",
    "##  1.1   1.98\n",
    "##  2.0   3.01\n",
    "##  2.6   3.51\n",
    "##  3.2   4.34\n",
    "##  4.3   5.32\n",
    "##\n",
    "\n",
    "## x y y son constantes\n",
    "x = tf.constant([ 1.1,  2.0,  2.6,  3.2 ,  4.3])\n",
    "y = tf.constant([ 1.98, 3.01, 3.51, 4.34 , 5.32])\n",
    "\n",
    "## w y b son las variables a estimar\n",
    "w = tf.Variable(0.0)\n",
    "b = tf.Variable(0.0)\n",
    "\n",
    "## Define el modelo\n",
    "m = tf.add(tf.multiply(x, w), \n",
    "           b)\n",
    "\n",
    "## Define la función de error\n",
    "sse = tf.reduce_sum(tf.square(m - y)) # sum of the squares\n",
    "\n",
    "## Inicializa el optimizador\n",
    "optimizer = tf.train.GradientDescentOptimizer(learning_rate=0.0001)\n",
    "\n",
    "## Minimiza la función de error\n",
    "opt = optimizer.minimize(sse)\n",
    "\n",
    "## estima el modelo\n",
    "with tf.Session() as sess:\n",
    "    sess.run(tf.global_variables_initializer())\n",
    "    for i in range(1000):\n",
    "        sess.run(opt)\n",
    "        if (i % 200 == 0):\n",
    "            print(sess.run(sse))\n",
    "        \n",
    "    print(sess.run([w, b]))\n"
   ]
  },
  {
   "cell_type": "markdown",
   "metadata": {},
   "source": [
    "---\n",
    "**Ejercicio.--** Modifique el código anterior para que pueda operar sobre datos matriciales.\n",
    "\n",
    "---\n"
   ]
  },
  {
   "cell_type": "markdown",
   "metadata": {},
   "source": [
    "Introducción a TensorFlow y Keras\n",
    "===\n",
    "\n",
    "**Juan David Velásquez Henao**  \n",
    "jdvelasq@unal.edu.co   \n",
    "Universidad Nacional de Colombia, Sede Medellín  \n",
    "Facultad de Minas  \n",
    "Medellín, Colombia\n",
    "\n",
    "---\n",
    "\n",
    "Haga click [aquí](https://github.com/jdvelasq/neural-networks/tree/master/) para acceder al repositorio online.\n",
    "\n",
    "Haga click [aquí](http://nbviewer.jupyter.org/github/jdvelasq/neural-networks/tree/master/) para explorar el repositorio usando `nbviewer`. "
   ]
  }
 ],
 "metadata": {
  "kernelspec": {
   "display_name": "Python 3",
   "language": "python",
   "name": "python3"
  },
  "language_info": {
   "codemirror_mode": {
    "name": "ipython",
    "version": 3
   },
   "file_extension": ".py",
   "mimetype": "text/x-python",
   "name": "python",
   "nbconvert_exporter": "python",
   "pygments_lexer": "ipython3",
   "version": "3.6.5"
  }
 },
 "nbformat": 4,
 "nbformat_minor": 2
}
